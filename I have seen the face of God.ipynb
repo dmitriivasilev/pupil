{
 "cells": [
  {
   "cell_type": "code",
   "execution_count": 15,
   "metadata": {},
   "outputs": [
    {
     "name": "stdout",
     "output_type": "stream",
     "text": [
      "OpenCV Version : 3.4.0 \n"
     ]
    }
   ],
   "source": [
    "%matplotlib inline\n",
    "from tqdm import tqdm,trange\n",
    "import numpy as np\n",
    "import cv2\n",
    "import matplotlib.pyplot as plt\n",
    "import matplotlib.image as mpimg\n",
    "import time\n",
    "import math\n",
    "from matplotlib import pyplot as plt\n",
    "print(\"OpenCV Version : %s \" % cv2.__version__)"
   ]
  },
  {
   "cell_type": "code",
   "execution_count": 20,
   "metadata": {},
   "outputs": [
    {
     "name": "stderr",
     "output_type": "stream",
     "text": [
      "100%|███████████████████████████████████████████████████████████████████████████████████| 7/7 [00:00<00:00, 388.32it/s]\n"
     ]
    }
   ],
   "source": [
    "frames = []\n",
    "for x in trange(7):\n",
    "    image = cv2.imread('toy_data/halfblink'+str(x+1)+'.jpg',0)\n",
    "    frames.append(image)"
   ]
  },
  {
   "cell_type": "code",
   "execution_count": 33,
   "metadata": {},
   "outputs": [],
   "source": [
    "output = []\n",
    "\n",
    "# Load the video. 0 stays for binary (grayscaled, 1-channel) image loading.\n",
    "cap = cv2.VideoCapture('toy_data/data.mj2',0)\n",
    "\n",
    "# Test for crop. Will be used later in code to crop the eye region.\n",
    "selection_set = False\n",
    "\n",
    "# Start the processing. The while loop iterates over all the frames in given data set one by one.\n",
    "while(True):    \n",
    "    # Select the eye region on the first frame.\n",
    "    if not selection_set:\n",
    "        ret, frame = cap.read()\n",
    "        r = cv2.selectROI(frame)\n",
    "        selection_set = True\n",
    "        cv2.destroyAllWindows()\n",
    "    \n",
    "    # Load original frames.\n",
    "    _, frame = cap.read()\n",
    "        \n",
    "    # Crop the frame according to region selected in the beginning.\n",
    "    cropped = frame[r[1]:(r[1]+r[3]),r[0]:(r[0]+r[2])]\n",
    "    \n",
    "    ## Blur the frame. Arguments are handpicked.\n",
    "    blurred = cv2.GaussianBlur(cropped,(13,13),5)\n",
    "    \n",
    "    ## Get rid of most of lighter coloured pixels on the image. Arguments are handpicked.\n",
    "    _, thresholded = cv2.threshold(blurred,70,255,cv2.THRESH_BINARY)\n",
    "    \n",
    "    ## Detect the edges. Arguments are handpicked.\n",
    "    edged = cv2.Canny(thresholded,100,200)\n",
    "    \n",
    "    try:\n",
    "        _, contours, _ = cv2.findContours(edged, cv2.RETR_TREE, cv2.CHAIN_APPROX_SIMPLE)\n",
    "        \n",
    "        # Ellipse could only be fitted into a contour if it has at least 5 points. Thats why >4.\n",
    "        contours = [contour for contour in contours if len(contour)>4]\n",
    "        \n",
    "        # Fit an ellipse into previously filtered contours.\n",
    "        ellipses = [cv2.fitEllipse(contour) for contour in contours]\n",
    "        \n",
    "        # Compute perimeter/area ratio. If area is 0, assign arbitrary high value.\n",
    "        # Thus, we are defining the most \"circular\" out of all the fitted ellipses.\n",
    "        loss = np.asarray([cv2.arcLength(cnt,True)/cv2.contourArea(cnt) if cv2.contourArea(cnt)!=0 else 100500 for cnt in contours])\n",
    "        \n",
    "        # Find the index of the minimal element of these perimeter/area ratios.\n",
    "        target_id = np.argmin(loss)\n",
    "        \n",
    "        # Draw an ellipse on the cropped image.\n",
    "        ellipsed = cv2.ellipse(cropped.copy(),ellipses[target_id],(0,255,0),2)\n",
    "        \n",
    "        # Plot lots of sexy rat's eyes.\n",
    "        result = np.vstack([np.hstack([cropped,blurred]),np.hstack([thresholded,ellipsed])])\n",
    "        \n",
    "        # Calculate area of fitted and position of it's center with respect to original image\n",
    "        center, axes, _ = ellipses[target_id]\n",
    "        ellarea = math.pi / 4 * axes[0] * axes[1]\n",
    "        output.extend([(center[0]+r[0],center[1]+r[3]),ellarea])\n",
    "        \n",
    "        # Temporary solution for the case of eye's blink.\n",
    "    except:\n",
    "        error = cv2.putText(cropped.copy(),\"Achtung!\", (int(cropped.shape[0]/2),int(cropped.shape[1]/2)), cv2.FONT_HERSHEY_SIMPLEX, 2, 255)\n",
    "\n",
    "        result = np.vstack([np.hstack([cropped,blurred]),np.hstack([thresholded,error])])\n",
    "        \n",
    "        output.extend([(0,0),0])\n",
    "\n",
    "    # Pop-up all four steps \n",
    "    cv2.imshow('result',result)\n",
    "    \n",
    "    # To stop video press q\n",
    "    if cv2.waitKey(1) & 0xFF == ord('q'):\n",
    "        break\n",
    "\n",
    "cap.release()\n",
    "cv2.destroyAllWindows()"
   ]
  },
  {
   "cell_type": "code",
   "execution_count": 34,
   "metadata": {},
   "outputs": [
    {
     "data": {
      "text/plain": [
       "[(554.1237335205078, 341.530517578125),\n",
       " 10562.040080186132,\n",
       " (553.6402435302734, 339.04024505615234),\n",
       " 10462.189985239313,\n",
       " (553.8494415283203, 341.4010314941406),\n",
       " 10443.261813133975,\n",
       " (554.5213623046875, 344.12003326416016),\n",
       " 10575.477211149784,\n",
       " (558.0550384521484, 348.6109161376953),\n",
       " 10451.57487086366,\n",
       " (559.3577117919922, 350.8180236816406),\n",
       " 10445.655172144652,\n",
       " (557.8848876953125, 347.5082702636719),\n",
       " 10468.27776351073,\n",
       " (554.7894439697266, 345.73538970947266),\n",
       " 10492.084681836253,\n",
       " (553.8595581054688, 345.302734375),\n",
       " 10505.680054700437,\n",
       " (553.6101684570312, 345.8006591796875),\n",
       " 10500.919955431835,\n",
       " (552.9277954101562, 346.4536361694336),\n",
       " 10542.108523629622,\n",
       " (552.5671691894531, 346.70396423339844),\n",
       " 10567.419780875094,\n",
       " (551.9363403320312, 346.64820861816406),\n",
       " 10538.371426047159,\n",
       " (551.6311492919922, 346.9490432739258),\n",
       " 10553.709861831148,\n",
       " (552.5059661865234, 346.8568801879883),\n",
       " 10598.571637896786,\n",
       " (554.5532684326172, 345.887939453125),\n",
       " 10606.88716909165,\n",
       " (555.8790740966797, 345.53883361816406),\n",
       " 10674.81312666658,\n",
       " (553.7323455810547, 347.65830993652344),\n",
       " 10648.764971806042,\n",
       " (550.6287078857422, 349.5669403076172),\n",
       " 10694.284718312483,\n",
       " (548.4833984375, 351.6912384033203),\n",
       " 10759.55127037828,\n",
       " (549.89599609375, 352.8841094970703),\n",
       " 10738.930813470306,\n",
       " (551.867431640625, 354.2442169189453),\n",
       " 10681.524543986792,\n",
       " (552.9375915527344, 355.5048370361328),\n",
       " 10732.966943803014,\n",
       " (556.8070678710938, 354.0017547607422),\n",
       " 10680.666343190143,\n",
       " (558.0721893310547, 355.5671691894531),\n",
       " 10698.43384687945,\n",
       " (556.2916717529297, 357.1426086425781),\n",
       " 10639.139039257692,\n",
       " (556.4670715332031, 356.7560119628906),\n",
       " 10606.728551496979,\n",
       " (556.5740509033203, 358.93060302734375),\n",
       " 10631.210945911662,\n",
       " (559.1457672119141, 359.937744140625),\n",
       " 10609.849849294373,\n",
       " (562.4003601074219, 359.2874755859375),\n",
       " 10568.310653791483,\n",
       " (564.052490234375, 354.6472625732422),\n",
       " 10585.81318360041,\n",
       " (560.8400421142578, 351.45501708984375),\n",
       " 10624.837727933986,\n",
       " (557.8036346435547, 351.15296936035156),\n",
       " 10597.236226811394,\n",
       " (555.7396087646484, 353.03643798828125),\n",
       " 10572.063009143618,\n",
       " (553.0223541259766, 353.69203186035156),\n",
       " 10504.883587825103,\n",
       " (553.3435516357422, 350.89625549316406),\n",
       " 10486.314592534314,\n",
       " (554.2708740234375, 348.66290283203125),\n",
       " 10541.24398851431,\n",
       " (556.2891998291016, 346.2659378051758),\n",
       " 10429.482916002138,\n",
       " (556.6616058349609, 345.9298553466797),\n",
       " 10425.250890690257,\n",
       " (556.9730529785156, 345.39705657958984),\n",
       " 10387.198311012327,\n",
       " (555.1471710205078, 345.6652526855469),\n",
       " 10403.537245777905,\n",
       " (556.1094360351562, 344.2897491455078),\n",
       " 10467.622163768221,\n",
       " (556.1514129638672, 343.9985809326172),\n",
       " 10447.21848825029,\n",
       " (556.0248107910156, 344.4043197631836),\n",
       " 10455.028549722196,\n",
       " (555.9161987304688, 345.2635803222656),\n",
       " 10506.088549199667]"
      ]
     },
     "execution_count": 34,
     "metadata": {},
     "output_type": "execute_result"
    }
   ],
   "source": [
    "output"
   ]
  },
  {
   "cell_type": "code",
   "execution_count": 6,
   "metadata": {
    "collapsed": true
   },
   "outputs": [],
   "source": [
    "cv2.destroyAllWindows()"
   ]
  }
 ],
 "metadata": {
  "kernelspec": {
   "display_name": "Python 3",
   "language": "python",
   "name": "python3"
  },
  "language_info": {
   "codemirror_mode": {
    "name": "ipython",
    "version": 3
   },
   "file_extension": ".py",
   "mimetype": "text/x-python",
   "name": "python",
   "nbconvert_exporter": "python",
   "pygments_lexer": "ipython3",
   "version": "3.6.3"
  }
 },
 "nbformat": 4,
 "nbformat_minor": 2
}
