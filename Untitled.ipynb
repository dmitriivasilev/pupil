{
 "cells": [
  {
   "cell_type": "code",
   "execution_count": 288,
   "metadata": {},
   "outputs": [
    {
     "name": "stdout",
     "output_type": "stream",
     "text": [
      "OpenCV Version : 3.4.0 \n"
     ]
    }
   ],
   "source": [
    "%matplotlib inline\n",
    "import numpy as np\n",
    "import cv2\n",
    "import matplotlib.pyplot as plt\n",
    "import matplotlib.image as mpimg\n",
    "import time \n",
    "from matplotlib import pyplot as plt\n",
    "print(\"OpenCV Version : %s \" % cv2.__version__)"
   ]
  },
  {
   "cell_type": "code",
   "execution_count": 334,
   "metadata": {
    "scrolled": true
   },
   "outputs": [
    {
     "name": "stdout",
     "output_type": "stream",
     "text": [
      "1\n"
     ]
    }
   ],
   "source": [
    "img = cv2.imread('eye.jpg',0)\n",
    "img2 = cv2.GaussianBlur(img,(29,29),0)\n",
    "\n",
    "th3 = cv2.adaptiveThreshold(img2,255,cv2.ADAPTIVE_THRESH_GAUSSIAN_C,\\\n",
    "            cv2.THRESH_BINARY,141,35)\n",
    "\n",
    "image, contours, hierarchy = cv2.findContours(th3,cv2.RETR_TREE,cv2.CHAIN_APPROX_SIMPLE)\n",
    "\n",
    "filtered_contours = [cnt for cnt in contours if (len(cnt)<100) and (len(cnt)>50)]\n",
    "\n",
    "print(len(filtered_contours))\n"
   ]
  },
  {
   "cell_type": "code",
   "execution_count": 335,
   "metadata": {
    "collapsed": true
   },
   "outputs": [],
   "source": [
    "cv2.adaptiveThreshold?"
   ]
  },
  {
   "cell_type": "code",
   "execution_count": null,
   "metadata": {
    "collapsed": true
   },
   "outputs": [],
   "source": [
    "%pv"
   ]
  },
  {
   "cell_type": "code",
   "execution_count": 336,
   "metadata": {},
   "outputs": [
    {
     "data": {
      "text/plain": [
       "[4, 312, 115, 73, 32, 133, 34, 279]"
      ]
     },
     "execution_count": 336,
     "metadata": {},
     "output_type": "execute_result"
    }
   ],
   "source": [
    "[len(cnt) for cnt in contours]"
   ]
  },
  {
   "cell_type": "code",
   "execution_count": 337,
   "metadata": {},
   "outputs": [
    {
     "data": {
      "image/png": "[encoded data removed]",
      "text/plain": [
       "<matplotlib.figure.Figure at 0x17960cc3518>"
      ]
     },
     "metadata": {},
     "output_type": "display_data"
    }
   ],
   "source": [
    "ellipses = [] # we create an empty list to fill later\n",
    "for cnt in filtered_contours: # for each contour from out list\n",
    "    try: # we try to apply ellipse fitting\n",
    "        ellipses.append(cv2.fitEllipse(cnt)) #and add the result to list of ellipses\n",
    "    except: # if not\n",
    "        pass # whatever\n",
    "#P.S.: remember, I didn't teach you to do that\n",
    "len(ellipses)\n",
    "\n",
    "for ellipse in ellipses:\n",
    "    plt.figure()\n",
    "    plt.imshow(cv2.ellipse(th3.copy(),ellipse,(123,233,12),2))"
   ]
  },
  {
   "cell_type": "code",
   "execution_count": 338,
   "metadata": {},
   "outputs": [],
   "source": [
    "#th3 = cv2.drawContours(th3, filtered_contours, -1, (150,150,75), 3)\n",
    "\n",
    "#plt.imshow(th3)"
   ]
  },
  {
   "cell_type": "markdown",
   "metadata": {},
   "source": [
    "for x in range(1,11):\n",
    "    th3 = cv2.adaptiveThreshold(img2,255,cv2.ADAPTIVE_THRESH_GAUSSIAN_C,\\\n",
    "            cv2.THRESH_BINARY,(51 + x*10),25)\n",
    "\n",
    "    image, contours, hierarchy = cv2.findContours(th3,cv2.RETR_TREE,cv2.CHAIN_APPROX_SIMPLE)\n",
    "    th3 = cv2.drawContours(th3, contours, -1, (150,150,75), 3)\n",
    "    \n",
    "    plt.figure(x)\n",
    "    plt.xlabel(x*10 + 51)\n",
    "    plt.imshow(th3)\n",
    "    #time.sleep(1)"
   ]
  },
  {
   "cell_type": "code",
   "execution_count": 339,
   "metadata": {},
   "outputs": [
    {
     "data": {
      "text/plain": [
       "[10.395290429053603]"
      ]
     },
     "execution_count": 339,
     "metadata": {},
     "output_type": "execute_result"
    }
   ],
   "source": [
    "# we want to get the one which is the most similar to ellipse\n",
    "# we introduse \"loss\" which is the difference in the are of fitted ellipse and contour \n",
    "# so if this loss id close to zero then the shape of contour is close to an ellipse\n",
    "# which is completely wrong but it will work for now\n",
    "\n",
    "loss = [] #emply list to fill the loss values\n",
    "for ellipse,contour in zip(ellipses,filtered_contours): # for each ellipse and contours from our ellipses and contours \n",
    "                                                        # (google zip function)\n",
    "    loss.append(abs((np.pi/4 * ellipse[1][0] * ellipse[1][1])-(cv2.contourArea(contour))))\n",
    "#difference between ellipse area ^              and contour area        ^                       \n",
    "loss"
   ]
  },
  {
   "cell_type": "code",
   "execution_count": 340,
   "metadata": {},
   "outputs": [
    {
     "data": {
      "text/plain": [
       "<matplotlib.image.AxesImage at 0x1795df98eb8>"
      ]
     },
     "execution_count": 340,
     "metadata": {},
     "output_type": "execute_result"
    },
    {
     "data": {
      "image/png": "[encoded data removed]",
      "text/plain": [
       "<matplotlib.figure.Figure at 0x179695472e8>"
      ]
     },
     "metadata": {},
     "output_type": "display_data"
    }
   ],
   "source": [
    "#we draw argmin of loss (argmin returns the index of minimum values of array/list)\n",
    "plt.imshow(cv2.ellipse(th3,ellipses[np.argmin(loss)],(100,100,100),-1))"
   ]
  },
  {
   "cell_type": "code",
   "execution_count": 309,
   "metadata": {
    "collapsed": true
   },
   "outputs": [],
   "source": [
    "cv2.ellipse?"
   ]
  },
  {
   "cell_type": "code",
   "execution_count": null,
   "metadata": {
    "collapsed": true
   },
   "outputs": [],
   "source": []
  }
 ],
 "metadata": {
  "kernelspec": {
   "display_name": "Python 3",
   "language": "python",
   "name": "python3"
  },
  "language_info": {
   "codemirror_mode": {
    "name": "ipython",
    "version": 3
   },
   "file_extension": ".py",
   "mimetype": "text/x-python",
   "name": "python",
   "nbconvert_exporter": "python",
   "pygments_lexer": "ipython3",
   "version": "3.6.3"
  }
 },
 "nbformat": 4,
 "nbformat_minor": 2
}
