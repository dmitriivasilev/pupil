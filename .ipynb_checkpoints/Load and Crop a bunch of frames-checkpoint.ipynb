{
 "cells": [
  {
   "cell_type": "code",
   "execution_count": 241,
   "metadata": {},
   "outputs": [
    {
     "name": "stdout",
     "output_type": "stream",
     "text": [
      "OpenCV Version : 3.4.0 \n"
     ]
    }
   ],
   "source": [
    "%matplotlib inline\n",
    "from tqdm import tqdm,trange\n",
    "import numpy as np\n",
    "import cv2\n",
    "import matplotlib.pyplot as plt\n",
    "import matplotlib.image as mpimg\n",
    "import time \n",
    "from matplotlib import pyplot as plt\n",
    "print(\"OpenCV Version : %s \" % cv2.__version__)"
   ]
  },
  {
   "cell_type": "code",
   "execution_count": 242,
   "metadata": {},
   "outputs": [
    {
     "name": "stderr",
     "output_type": "stream",
     "text": [
      "100%|████████████████████████████████████████████████████████████████████████████████████| 1/1 [00:00<00:00, 33.31it/s]\n"
     ]
    }
   ],
   "source": [
    "first = []\n",
    "\n",
    "\n",
    "cap = cv2.VideoCapture('data.mj2')\n",
    "\n",
    "for i in trange(1):\n",
    "            \n",
    "    ret, frame = cap.read()\n",
    "    \n",
    "    first.append(frame)\n"
   ]
  },
  {
   "cell_type": "code",
   "execution_count": 243,
   "metadata": {},
   "outputs": [],
   "source": [
    "r = cv2.selectROI(first[0])\n",
    "cv2.waitKey(0)\n",
    "cv2.destroyAllWindows()\n",
    "    \n",
    "    # Crop image\n",
    "imCrop = first[0][int(r[1]):int(r[1]+r[3]), int(r[0]):int(r[0]+r[2])]\n",
    " \n",
    "    # Display cropped image\n",
    "cv2.imshow(\"Image\", imCrop)\n",
    "cv2.waitKey(0)\n",
    "cv2.destroyAllWindows()"
   ]
  },
  {
   "cell_type": "code",
   "execution_count": 244,
   "metadata": {},
   "outputs": [
    {
     "name": "stderr",
     "output_type": "stream",
     "text": [
      "100%|████████████████████████████████████████████████████████████████████████████████████| 6/6 [00:00<00:00, 85.07it/s]\n"
     ]
    },
    {
     "name": "stdout",
     "output_type": "stream",
     "text": [
      "There are 6 imported frames\n"
     ]
    }
   ],
   "source": [
    "frames = []\n",
    "cropframes = []\n",
    "threshframes = []\n",
    "blurredframes = []\n",
    "cont = []\n",
    "\n",
    "cap = cv2.VideoCapture('data.mj2',0)\n",
    "\n",
    "for i in trange(6):\n",
    "            \n",
    "    ret, frame = cap.read()\n",
    "    frames.append(frame)\n",
    "    \n",
    "    imCrop = frames[i][int(r[1]):int(r[1]+r[3]), int(r[0]):int(r[0]+r[2])]\n",
    "    cropframes.append(imCrop)\n",
    "    \n",
    "    gaus = cv2.GaussianBlur(cropframes[i],(13,13),5)\n",
    "    blurredframes.append(gaus)\n",
    "    \n",
    "    retval, threshold = cv2.threshold(blurredframes[i],70,255,cv2.THRESH_BINARY)\n",
    "    threshframes.append(threshold)\n",
    "    \n",
    "    edges = cv2.Canny(threshframes[i],100,200)\n",
    "    cont.append(edges)\n",
    "    \n",
    "\n",
    "print('There are %d imported frames' %len(frames))"
   ]
  },
  {
   "cell_type": "code",
   "execution_count": 245,
   "metadata": {},
   "outputs": [],
   "source": [
    "img = cont[5]\n",
    "\n",
    "im2, contours, hierarchy = cv2.findContours(img.copy(), cv2.RETR_TREE, cv2.CHAIN_APPROX_SIMPLE)\n",
    "\n",
    "#\n",
    "\n",
    "cv2.imshow(\"Image\", img) \n",
    "cv2.waitKey(0)  \n",
    "cv2.destroyAllWindows()"
   ]
  },
  {
   "cell_type": "code",
   "execution_count": 256,
   "metadata": {},
   "outputs": [
    {
     "name": "stdout",
     "output_type": "stream",
     "text": [
      "6\n"
     ]
    }
   ],
   "source": [
    "print(len(contours))\n",
    "image = cropframes[5].copy()\n",
    "cv2.drawContours(image, contours, -1, (0,155,0), 3)\n",
    "cv2.imshow(\"Game Boy Screen\", image)\n",
    "cv2.waitKey(0)\n",
    "cv2.destroyAllWindows()"
   ]
  },
  {
   "cell_type": "code",
   "execution_count": 269,
   "metadata": {},
   "outputs": [],
   "source": [
    "image = cropframes[5].copy()\n",
    "for i in range(len(contours)):\n",
    "    ellipse = cv2.fitEllipse(contours[2])\n",
    "    cv2.ellipse(image,ellipse,(0,255,0),2)\n",
    "    cv2.imshow(\"Image\", image) \n",
    "    cv2.waitKey(0)  \n",
    "    cv2.destroyAllWindows()"
   ]
  },
  {
   "cell_type": "code",
   "execution_count": 271,
   "metadata": {},
   "outputs": [
    {
     "name": "stdout",
     "output_type": "stream",
     "text": [
      "2.5 38.38477575778961\n",
      "19.5 17.071067690849304\n",
      "18.5 15.899494767189026\n",
      "42.0 457.8721445798874\n",
      "10476.5 392.09040224552155\n",
      "10430.5 389.7472552061081\n",
      "[0.06512998840413084, 1.1422835614700708, 1.1635589854199333, 0.09172866377039898, 26.71960328536622, 26.76221541184194]\n"
     ]
    }
   ],
   "source": [
    "ratio = []\n",
    "for x in range(len(contours)):\n",
    "    \n",
    "    perimeter = cv2.arcLength(contours[x],True)\n",
    "    area = cv2.contourArea(contours[x])\n",
    "    print(area, perimeter)\n",
    "    ratio.append(area/perimeter)\n",
    "\n",
    "print(ratio)"
   ]
  },
  {
   "cell_type": "code",
   "execution_count": 272,
   "metadata": {},
   "outputs": [
    {
     "data": {
      "text/plain": [
       "5"
      ]
     },
     "execution_count": 272,
     "metadata": {},
     "output_type": "execute_result"
    }
   ],
   "source": [
    "np.argmax(ratio)"
   ]
  },
  {
   "cell_type": "code",
   "execution_count": 222,
   "metadata": {},
   "outputs": [],
   "source": [
    "for i in range(len(cont)):\n",
    "    cv2.imshow(\"Image\", cont[i]) \n",
    "    cv2.waitKey(0)  \n",
    "    cv2.destroyAllWindows()"
   ]
  },
  {
   "cell_type": "code",
   "execution_count": 237,
   "metadata": {},
   "outputs": [
    {
     "data": {
      "text/plain": [
       "(278, 462, 3)"
      ]
     },
     "execution_count": 237,
     "metadata": {},
     "output_type": "execute_result"
    }
   ],
   "source": [
    "blurredframes[5].shape"
   ]
  },
  {
   "cell_type": "code",
   "execution_count": 254,
   "metadata": {},
   "outputs": [],
   "source": [
    "numpy_horizontal = np.hstack((cont[5], cv2.cvtColor(cropframes[5],cv2.COLOR_RGB2GRAY)))\n",
    "numpy_horizontal2 = np.hstack((cv2.cvtColor(threshframes[5],cv2.COLOR_RGB2GRAY), cv2.cvtColor(blurredframes[5],cv2.COLOR_RGB2GRAY)))\n",
    "numpy_vertical = np.vstack((numpy_horizontal,numpy_horizontal2))\n",
    "\n",
    "cv2.imshow(\"Image\", numpy_vertical) \n",
    "cv2.waitKey(0)  \n",
    "cv2.destroyAllWindows()"
   ]
  },
  {
   "cell_type": "code",
   "execution_count": 190,
   "metadata": {
    "collapsed": true
   },
   "outputs": [],
   "source": [
    "cv2.destroyAllWindows()"
   ]
  }
 ],
 "metadata": {
  "kernelspec": {
   "display_name": "Python 3",
   "language": "python",
   "name": "python3"
  },
  "language_info": {
   "codemirror_mode": {
    "name": "ipython",
    "version": 3
   },
   "file_extension": ".py",
   "mimetype": "text/x-python",
   "name": "python",
   "nbconvert_exporter": "python",
   "pygments_lexer": "ipython3",
   "version": "3.6.3"
  }
 },
 "nbformat": 4,
 "nbformat_minor": 2
}
