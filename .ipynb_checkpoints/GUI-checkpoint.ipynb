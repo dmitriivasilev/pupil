{
 "cells": [
  {
   "cell_type": "code",
   "execution_count": 7,
   "metadata": {},
   "outputs": [
    {
     "name": "stdout",
     "output_type": "stream",
     "text": [
      "OpenCV Version : 3.4.0 \n"
     ]
    }
   ],
   "source": [
    "%matplotlib inline\n",
    "from tqdm import tqdm,trange\n",
    "import numpy as np\n",
    "import cv2\n",
    "import matplotlib.pyplot as plt\n",
    "import matplotlib.image as mpimg\n",
    "import time\n",
    "import math\n",
    "import statistics as stat\n",
    "from matplotlib import pyplot as plt\n",
    "print(\"OpenCV Version : %s \" % cv2.__version__)"
   ]
  },
  {
   "cell_type": "code",
   "execution_count": 8,
   "metadata": {},
   "outputs": [],
   "source": [
    "img1 = cv2.imread('eye.jpg',0)\n",
    "r = cv2.selectROI(img1)\n",
    "cropped = img1[r[1]:(r[1]+r[3]),r[0]:(r[0]+r[2])]\n",
    "cv2.destroyAllWindows()"
   ]
  },
  {
   "cell_type": "code",
   "execution_count": 9,
   "metadata": {},
   "outputs": [
    {
     "name": "stdout",
     "output_type": "stream",
     "text": [
      "GaussianBlur Kernel Size 59\n",
      "Threshold value 72\n"
     ]
    }
   ],
   "source": [
    "def callback(x):\n",
    "    pass\n",
    "def callback2(x):\n",
    "    pass\n",
    "\n",
    "interblur = cropped.copy()\n",
    "interthresh = cropped.copy()\n",
    "interedged = cropped.copy()\n",
    "ellipsed = cropped.copy()\n",
    "result = np.vstack([interblur,interthresh,interedged,ellipsed])\n",
    "\n",
    "\n",
    "# Create window\n",
    "cv2.namedWindow('trying gui')\n",
    "# Show an image in the window\n",
    "cv2.imshow('trying gui', result)\n",
    "# Add a slider\n",
    "cv2.createTrackbar('Blur', 'trying gui', 1, 254, callback)\n",
    "cv2.createTrackbar('Threshold', 'trying gui', 1, 255, callback2)\n",
    "\n",
    "# create switch for ON/OFF functionality\n",
    "# switch = '0 : OFF \\n1 : ON'\n",
    "# cv2.createTrackbar(switch, 'trying gui',0,1,callback)\n",
    "\n",
    "\n",
    "\n",
    "while(1):\n",
    "    # Stack all operations together\n",
    "    result = np.vstack([interblur,interthresh,interedged,ellipsed])\n",
    "    # Show 'em\n",
    "    cv2.imshow('trying gui',result)\n",
    "    \n",
    "    k = cv2.waitKey(1) & 0xFF\n",
    "    if k == 27:\n",
    "        break\n",
    "        \n",
    "    gbkernel = cv2.getTrackbarPos('Blur','trying gui')\n",
    "    threshval = cv2.getTrackbarPos('Threshold','trying gui')\n",
    "    \n",
    "    # Gaussian Blur requires odd number, correct for it\n",
    "    if gbkernel % 2 == 0:\n",
    "        gbkernel = gbkernel + 1\n",
    "    \n",
    "    #if\n",
    "    interblur = cv2.GaussianBlur(cropped.copy(),(gbkernel,gbkernel),0)\n",
    "    _, interthresh = cv2.threshold(interblur.copy(),threshval,255,cv2.THRESH_BINARY)\n",
    "    interedged = cv2.Canny(interthresh.copy(),100,200)\n",
    "    \n",
    "    _, contours, _ = cv2.findContours(interedged, cv2.RETR_TREE, cv2.CHAIN_APPROX_SIMPLE)\n",
    "        \n",
    "        # Ellipse could only be fitted into a contour if it has at least 5 points. Thats why >4.\n",
    "    contours = [contour for contour in contours if len(contour)>4]\n",
    "        \n",
    "        # Get rid of obviously too small as well as too big contours.\n",
    "    contours = [contour for contour in contours if (cv2.contourArea(contour) > 200) & (cv2.contourArea(contour) < 17000)]\n",
    "        \n",
    "        # Fit an ellipse into previously filtered contours.\n",
    "    ellipses = [cv2.fitEllipse(contour) for contour in contours]\n",
    "        \n",
    "        # Compute perimeter/area ratio of both original contours as well as fitted ellipses.\n",
    "        # If area is 0, assign arbitrary high value.\n",
    "        # Thus, we are defining the most \"circular\" out of all the fitted ellipses.\n",
    "        #\n",
    "        \n",
    "    loss = np.asarray([cv2.arcLength(cnt,True)/cv2.contourArea(cnt) if cv2.contourArea(cnt)!=0 else 100500 for cnt in contours])\n",
    "    loss2 = np.asarray([(math.pi*((3*(ellipses[0][1][0] + ellipses[0][1][1])/2) - math.sqrt((3*ellipses[0][1][0]+ellipses[0][1][1])*(ellipses[0][1][0]+3*ellipses[0][1][1])/2)))/(math.pi / 4 * ellipses[0][1][0] * ellipses[0][1][1]) for x in ellipses])\n",
    "        \n",
    "        # Find the index of the minimal element of these perimeter/area ratios and pick the closest to a circle ellipse.\n",
    "        # If ellipse has a better ratio, than math is on our side.\n",
    "        # If not, we pray for the best by picking contour with a better ratio.\n",
    "        # This was implemented to minimize the probability of chosing wrong ellipse.\n",
    "    if loss.size != 0:    \n",
    "        if np.argmin(loss) != np.argmin(loss2):\n",
    "            target_id = np.argmin(loss)\n",
    "        else:\n",
    "            target_id = np.argmin(loss2)\n",
    "        # Draw an ellipse on the cropped image.\n",
    "        ellipsed = cv2.ellipse(cropped.copy(),ellipses[target_id],(0,255,0),2)\n",
    "        \n",
    "        \n",
    "    \n",
    "    \n",
    "    if cv2.waitKey(1) & 0xFF == ord('q'):\n",
    "        break\n",
    "        \n",
    "cv2.destroyAllWindows()\n",
    "\n",
    "print('GaussianBlur Kernel Size %d' %gbkernel)\n",
    "print('Threshold value %d' %threshval)"
   ]
  },
  {
   "cell_type": "code",
   "execution_count": 6,
   "metadata": {
    "collapsed": true
   },
   "outputs": [],
   "source": []
  },
  {
   "cell_type": "code",
   "execution_count": null,
   "metadata": {
    "collapsed": true
   },
   "outputs": [],
   "source": []
  },
  {
   "cell_type": "code",
   "execution_count": 28,
   "metadata": {
    "collapsed": true
   },
   "outputs": [],
   "source": [
    "cv2.destroyAllWindows()"
   ]
  }
 ],
 "metadata": {
  "kernelspec": {
   "display_name": "Python 3",
   "language": "python",
   "name": "python3"
  },
  "language_info": {
   "codemirror_mode": {
    "name": "ipython",
    "version": 3
   },
   "file_extension": ".py",
   "mimetype": "text/x-python",
   "name": "python",
   "nbconvert_exporter": "python",
   "pygments_lexer": "ipython3",
   "version": "3.6.3"
  }
 },
 "nbformat": 4,
 "nbformat_minor": 2
}
