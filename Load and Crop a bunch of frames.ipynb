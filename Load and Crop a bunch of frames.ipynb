{
 "cells": [
  {
   "cell_type": "code",
   "execution_count": 76,
   "metadata": {},
   "outputs": [
    {
     "name": "stdout",
     "output_type": "stream",
     "text": [
      "OpenCV Version : 3.4.0 \n"
     ]
    }
   ],
   "source": [
    "%matplotlib inline\n",
    "from tqdm import tqdm,trange\n",
    "import numpy as np\n",
    "import cv2\n",
    "import matplotlib.pyplot as plt\n",
    "import matplotlib.image as mpimg\n",
    "import time \n",
    "from matplotlib import pyplot as plt\n",
    "print(\"OpenCV Version : %s \" % cv2.__version__)"
   ]
  },
  {
   "cell_type": "code",
   "execution_count": 87,
   "metadata": {},
   "outputs": [
    {
     "name": "stderr",
     "output_type": "stream",
     "text": [
      "100%|████████████████████████████████████████████████████████████████████████████████████| 1/1 [00:00<00:00, 31.75it/s]\n"
     ]
    }
   ],
   "source": [
    "first = []\n",
    "\n",
    "cap = cv2.VideoCapture('data.mj2')\n",
    "\n",
    "for i in trange(1):\n",
    "            \n",
    "    ret, frame = cap.read()\n",
    "    \n",
    "    first.append(frame)\n"
   ]
  },
  {
   "cell_type": "code",
   "execution_count": 88,
   "metadata": {
    "collapsed": true
   },
   "outputs": [],
   "source": [
    "r = cv2.selectROI(frames[0])\n",
    "cv2.waitKey(0)\n",
    "cv2.destroyAllWindows()\n",
    "    \n",
    "    # Crop image\n",
    "imCrop = frames[0][int(r[1]):int(r[1]+r[3]), int(r[0]):int(r[0]+r[2])]\n",
    " \n",
    "    # Display cropped image\n",
    "cv2.imshow(\"Image\", imCrop)\n",
    "cv2.waitKey(0)\n",
    "cv2.destroyAllWindows()"
   ]
  },
  {
   "cell_type": "code",
   "execution_count": 91,
   "metadata": {},
   "outputs": [
    {
     "name": "stderr",
     "output_type": "stream",
     "text": [
      "100%|███████████████████████████████████████████████████████████████████████████████| 350/350 [00:00<00:00, 447.84it/s]\n"
     ]
    },
    {
     "name": "stdout",
     "output_type": "stream",
     "text": [
      "There are 350 imported frames\n"
     ]
    }
   ],
   "source": [
    "frames = []\n",
    "cropframes = []\n",
    "blurredframes = []\n",
    "\n",
    "cap = cv2.VideoCapture('data.mj2')\n",
    "\n",
    "for i in trange(300):\n",
    "            \n",
    "    ret, frame = cap.read()\n",
    "    \n",
    "    frames.append(frame)\n",
    "    \n",
    "    imCrop = frames[i][int(r[1]):int(r[1]+r[3]), int(r[0]):int(r[0]+r[2])]\n",
    "          \n",
    "    cropframes.append(imCrop)\n",
    "    \n",
    "    #blurredframes.append(cv2.pyrMeanShiftFiltering(cropframes[i],15,55))\n",
    "    \n",
    "    \n",
    "\n",
    "print('There are %d imported frames' %len(frames))"
   ]
  },
  {
   "cell_type": "code",
   "execution_count": 98,
   "metadata": {},
   "outputs": [
    {
     "data": {
      "text/plain": [
       "6750000"
      ]
     },
     "execution_count": 98,
     "metadata": {},
     "output_type": "execute_result"
    }
   ],
   "source": [
    "50*45*50*60"
   ]
  },
  {
   "cell_type": "code",
   "execution_count": 50,
   "metadata": {},
   "outputs": [
    {
     "name": "stderr",
     "output_type": "stream",
     "text": [
      "100%|██████████████████████████████████████████████████████████████████████████████████████████| 50/50 [00:00<?, ?it/s]\n"
     ]
    },
    {
     "name": "stdout",
     "output_type": "stream",
     "text": [
      "50\n"
     ]
    }
   ],
   "source": [
    "cropframes = []\n",
    "for x in trange(len(frames)):\n",
    "    imCrop = frames[x][int(r[1]):int(r[1]+r[3]), int(r[0]):int(r[0]+r[2])]\n",
    "    cropframes.append(imCrop)\n",
    "\n",
    "print(len(cropframes))"
   ]
  },
  {
   "cell_type": "code",
   "execution_count": 92,
   "metadata": {},
   "outputs": [],
   "source": [
    "for i in range(len(cropframes)):\n",
    "    cv2.imshow(\"Image\", cropframes[i]) \n",
    "    cv2.waitKey(0)  \n",
    "    cv2.destroyAllWindows()"
   ]
  },
  {
   "cell_type": "code",
   "execution_count": 97,
   "metadata": {
    "collapsed": true
   },
   "outputs": [],
   "source": [
    "cv2.destroyAllWindows()"
   ]
  }
 ],
 "metadata": {
  "kernelspec": {
   "display_name": "Python 3",
   "language": "python",
   "name": "python3"
  },
  "language_info": {
   "codemirror_mode": {
    "name": "ipython",
    "version": 3
   },
   "file_extension": ".py",
   "mimetype": "text/x-python",
   "name": "python",
   "nbconvert_exporter": "python",
   "pygments_lexer": "ipython3",
   "version": "3.6.3"
  }
 },
 "nbformat": 4,
 "nbformat_minor": 2
}
